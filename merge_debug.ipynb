{
 "metadata": {
  "language_info": {
   "codemirror_mode": {
    "name": "ipython",
    "version": 3
   },
   "file_extension": ".py",
   "mimetype": "text/x-python",
   "name": "python",
   "nbconvert_exporter": "python",
   "pygments_lexer": "ipython3",
   "version": "3.8.8"
  },
  "orig_nbformat": 2,
  "kernelspec": {
   "name": "python388jvsc74a57bd037a8de4949b519498f7fe6ffbb1c3fdc64314476848ee903d85cb0da8477ed0a",
   "display_name": "Python 3.8.8 64-bit ('anaconda3': virtualenv)"
  },
  "metadata": {
   "interpreter": {
    "hash": "37a8de4949b519498f7fe6ffbb1c3fdc64314476848ee903d85cb0da8477ed0a"
   }
  }
 },
 "nbformat": 4,
 "nbformat_minor": 2,
 "cells": [
  {
   "cell_type": "code",
   "execution_count": 82,
   "metadata": {},
   "outputs": [],
   "source": [
    "import pandas as pd\n",
    "import numpy as np\n",
    "import os\n",
    "import seaborn as sns\n",
    "import matplotlib as mpl\n",
    "import matplotlib.pyplot as plt\n",
    "from datetime import datetime"
   ]
  },
  {
   "cell_type": "code",
   "execution_count": 83,
   "metadata": {},
   "outputs": [],
   "source": [
    "# initialize list of lists\n",
    "old_price = [['toyota ', 30000], ['ford', 40000], ['bmw', 50000], ['nissan', 6000]]\n",
    "\n",
    "\n",
    "new_price = [['toyota', 40000], ['ford', 50000], ['bmw', 60000]]\n",
    "\n",
    "\n",
    "# Create the pandas DataFrame\n",
    "df_1 = pd.DataFrame(old_price, columns = ['Make', 'Value'])\n",
    "\n",
    "# Create the pandas DataFrame\n",
    "df_2 = pd.DataFrame(new_price, columns = ['Make', 'New_Value'])"
   ]
  },
  {
   "cell_type": "code",
   "execution_count": 84,
   "metadata": {},
   "outputs": [
    {
     "output_type": "stream",
     "name": "stdout",
     "text": [
      "   Make  Value  New_Value\n0  ford  40000      50000\n1   bmw  50000      60000\n"
     ]
    }
   ],
   "source": [
    "car_price = pd.merge(df_1, df_2, on ='Make')\n",
    "\n",
    "print(car_price)\n",
    "\n",
    "#Notice maker toyota does not appear because it has an empty space after its name"
   ]
  },
  {
   "cell_type": "code",
   "execution_count": 85,
   "metadata": {},
   "outputs": [],
   "source": [
    "#Function to delete all leading and trailing empty spaces\n",
    "\n",
    "def trim_all_columns(df):\n",
    "    trim_strings = lambda x: x.strip() if isinstance(x, str) else x\n",
    "    return df.applymap(trim_strings)"
   ]
  },
  {
   "cell_type": "code",
   "execution_count": 86,
   "metadata": {},
   "outputs": [],
   "source": [
    "df_1 = trim_all_columns(df_1)"
   ]
  },
  {
   "cell_type": "code",
   "execution_count": 87,
   "metadata": {},
   "outputs": [
    {
     "output_type": "stream",
     "name": "stdout",
     "text": [
      "     Make  Value  New_Value\n0  toyota  30000      40000\n1    ford  40000      50000\n2     bmw  50000      60000\n"
     ]
    }
   ],
   "source": [
    "car_price = pd.merge(df_1, df_2, on ='Make')\n",
    "\n",
    "print(car_price)"
   ]
  },
  {
   "cell_type": "code",
   "execution_count": 88,
   "metadata": {},
   "outputs": [],
   "source": [
    "#You can also use a more simple solution\n",
    "\n",
    "#df_1 = df_1.str.strip()"
   ]
  },
  {
   "cell_type": "code",
   "execution_count": 89,
   "metadata": {},
   "outputs": [
    {
     "output_type": "stream",
     "name": "stdout",
     "text": [
      "Maker ['nissan'] does not have a new value.\n"
     ]
    }
   ],
   "source": [
    "no_new_price = np.setdiff1d(df_1['Make'], df_2['Make'])\n",
    "\n",
    "print(f\"Maker {no_new_price} does not have a new value.\")\n"
   ]
  }
 ]
}